{
  "cells": [
    {
      "cell_type": "markdown",
      "metadata": {
        "id": "view-in-github",
        "colab_type": "text"
      },
      "source": [
        "<a href=\"https://colab.research.google.com/github/Ritwik7999/Data-Science-Notebooks/blob/master/handwritten_digit_recognition_mnist.ipynb\" target=\"_parent\"><img src=\"https://colab.research.google.com/assets/colab-badge.svg\" alt=\"Open In Colab\"/></a>"
      ]
    },
    {
      "cell_type": "markdown",
      "metadata": {
        "id": "Owr2STcxcVG0"
      },
      "source": [
        "## An Introduction to Keras and MNIST\n",
        "\n",
        "For background, please review\n",
        "https://en.wikipedia.org/wiki/MNIST_database\n",
        "\n",
        "\n"
      ]
    },
    {
      "cell_type": "markdown",
      "metadata": {
        "id": "ts-uF3DEcVG3"
      },
      "source": [
        "### Getting the data\n",
        "\n",
        "The MNIST dataset comes pre-loaded in Keras, in the form of a set of four Numpy arrays:"
      ]
    },
    {
      "cell_type": "code",
      "execution_count": null,
      "metadata": {
        "id": "B8BNrYfdcVG3"
      },
      "outputs": [],
      "source": [
        "from tensorflow.keras.datasets import mnist"
      ]
    },
    {
      "cell_type": "code",
      "source": [
        "help(mnist.load_data)"
      ],
      "metadata": {
        "colab": {
          "base_uri": "https://localhost:8080/"
        },
        "id": "xhnf_tK0e9NE",
        "outputId": "8e3c0bbf-c70b-4331-e139-a37c2feeac75"
      },
      "execution_count": null,
      "outputs": [
        {
          "output_type": "stream",
          "name": "stdout",
          "text": [
            "Help on function load_data in module keras.src.datasets.mnist:\n",
            "\n",
            "load_data(path='mnist.npz')\n",
            "    Loads the MNIST dataset.\n",
            "    \n",
            "    This is a dataset of 60,000 28x28 grayscale images of the 10 digits,\n",
            "    along with a test set of 10,000 images.\n",
            "    More info can be found at the\n",
            "    [MNIST homepage](http://yann.lecun.com/exdb/mnist/).\n",
            "    \n",
            "    Args:\n",
            "        path: path where to cache the dataset locally\n",
            "            (relative to `~/.keras/datasets`).\n",
            "    \n",
            "    Returns:\n",
            "        Tuple of NumPy arrays: `(x_train, y_train), (x_test, y_test)`.\n",
            "    \n",
            "    **`x_train`**: `uint8` NumPy array of grayscale image data with shapes\n",
            "      `(60000, 28, 28)`, containing the training data. Pixel values range\n",
            "      from 0 to 255.\n",
            "    \n",
            "    **`y_train`**: `uint8` NumPy array of digit labels (integers in range 0-9)\n",
            "      with shape `(60000,)` for the training data.\n",
            "    \n",
            "    **`x_test`**: `uint8` NumPy array of grayscale image data with shapes\n",
            "      `(10000, 28, 28)`, containing the test data. Pixel values range\n",
            "      from 0 to 255.\n",
            "    \n",
            "    **`y_test`**: `uint8` NumPy array of digit labels (integers in range 0-9)\n",
            "      with shape `(10000,)` for the test data.\n",
            "    \n",
            "    Example:\n",
            "    \n",
            "    ```python\n",
            "    (x_train, y_train), (x_test, y_test) = keras.datasets.mnist.load_data()\n",
            "    assert x_train.shape == (60000, 28, 28)\n",
            "    assert x_test.shape == (10000, 28, 28)\n",
            "    assert y_train.shape == (60000,)\n",
            "    assert y_test.shape == (10000,)\n",
            "    ```\n",
            "    \n",
            "    License:\n",
            "    \n",
            "    Yann LeCun and Corinna Cortes hold the copyright of MNIST dataset,\n",
            "    which is a derivative work from original NIST datasets.\n",
            "    MNIST dataset is made available under the terms of the\n",
            "    [Creative Commons Attribution-Share Alike 3.0 license.](\n",
            "        https://creativecommons.org/licenses/by-sa/3.0/)\n",
            "\n"
          ]
        }
      ]
    },
    {
      "cell_type": "code",
      "source": [
        "(train_images, train_labels), (test_images, test_labels) = mnist.load_data()"
      ],
      "metadata": {
        "id": "wLjyzK27e56T"
      },
      "execution_count": null,
      "outputs": []
    },
    {
      "cell_type": "markdown",
      "metadata": {
        "id": "xWkDn8YBcVG4"
      },
      "source": [
        "### Understanding the data and data shapes\n",
        "\n",
        "Let's have a look at the training data:"
      ]
    },
    {
      "cell_type": "code",
      "execution_count": null,
      "metadata": {
        "colab": {
          "base_uri": "https://localhost:8080/"
        },
        "id": "GUbYH5LshqPk",
        "outputId": "0cdf0f40-4ea3-4149-feb9-a3aa8fa93268"
      },
      "outputs": [
        {
          "output_type": "execute_result",
          "data": {
            "text/plain": [
              "numpy.ndarray"
            ]
          },
          "metadata": {},
          "execution_count": 44
        }
      ],
      "source": [
        "type (train_images)"
      ]
    },
    {
      "cell_type": "code",
      "execution_count": null,
      "metadata": {
        "colab": {
          "base_uri": "https://localhost:8080/"
        },
        "id": "kZ48n1U5htLL",
        "outputId": "fba73b5b-797a-4936-b62a-620498d5a651"
      },
      "outputs": [
        {
          "output_type": "execute_result",
          "data": {
            "text/plain": [
              "(60000, 28, 28)"
            ]
          },
          "metadata": {},
          "execution_count": 45
        }
      ],
      "source": [
        "train_images.shape\n",
        "# 60K images, each image is a two-dimensional (28 x 28 array)"
      ]
    },
    {
      "cell_type": "code",
      "source": [
        "train_labels.shape"
      ],
      "metadata": {
        "colab": {
          "base_uri": "https://localhost:8080/"
        },
        "id": "fdAk6SYNiN97",
        "outputId": "7af764d4-5b1b-454b-b666-0b928f94a9aa"
      },
      "execution_count": null,
      "outputs": [
        {
          "output_type": "execute_result",
          "data": {
            "text/plain": [
              "(60000,)"
            ]
          },
          "metadata": {},
          "execution_count": 46
        }
      ]
    },
    {
      "cell_type": "code",
      "execution_count": null,
      "metadata": {
        "id": "iR92OYOLWM3z",
        "colab": {
          "base_uri": "https://localhost:8080/"
        },
        "outputId": "8405df8f-4778-420a-9026-e83bb70b0400"
      },
      "outputs": [
        {
          "output_type": "execute_result",
          "data": {
            "text/plain": [
              "5"
            ]
          },
          "metadata": {},
          "execution_count": 47
        }
      ],
      "source": [
        "train_labels[0]"
      ]
    },
    {
      "cell_type": "code",
      "source": [
        "train_images[0].shape # dimensions of a single image"
      ],
      "metadata": {
        "colab": {
          "base_uri": "https://localhost:8080/"
        },
        "id": "-WjECiR6i4-n",
        "outputId": "9ae95fac-1960-424b-aaf6-24122f46c6f9"
      },
      "execution_count": null,
      "outputs": [
        {
          "output_type": "execute_result",
          "data": {
            "text/plain": [
              "(28, 28)"
            ]
          },
          "metadata": {},
          "execution_count": 48
        }
      ]
    },
    {
      "cell_type": "code",
      "execution_count": null,
      "metadata": {
        "colab": {
          "base_uri": "https://localhost:8080/",
          "height": 448
        },
        "id": "QIWTbBT8cVG4",
        "outputId": "02df6631-00ea-46d9-a738-878f5f3023d5"
      },
      "outputs": [
        {
          "output_type": "execute_result",
          "data": {
            "text/plain": [
              "<matplotlib.image.AxesImage at 0x7ba499481a50>"
            ]
          },
          "metadata": {},
          "execution_count": 49
        },
        {
          "output_type": "display_data",
          "data": {
            "text/plain": [
              "<Figure size 640x480 with 1 Axes>"
            ],
            "image/png": "[encoded data removed]"
          },
          "metadata": {}
        }
      ],
      "source": [
        "import matplotlib.pyplot as plt\n",
        "\n",
        "plt.imshow(train_images[0], cmap='gray')"
      ]
    },
    {
      "cell_type": "code",
      "execution_count": null,
      "metadata": {
        "colab": {
          "base_uri": "https://localhost:8080/",
          "height": 448
        },
        "id": "UWP50wFmZqKG",
        "outputId": "4c83e7f1-7cb4-4dc2-ace7-a51a0910a411"
      },
      "outputs": [
        {
          "output_type": "execute_result",
          "data": {
            "text/plain": [
              "<matplotlib.image.AxesImage at 0x7ba49949d6c0>"
            ]
          },
          "metadata": {},
          "execution_count": 50
        },
        {
          "output_type": "display_data",
          "data": {
            "text/plain": [
              "<Figure size 640x480 with 1 Axes>"
            ],
            "image/png": "[encoded data removed]"
          },
          "metadata": {}
        }
      ],
      "source": [
        "plt.imshow(train_images[0], cmap='Blues')"
      ]
    },
    {
      "cell_type": "code",
      "execution_count": null,
      "metadata": {
        "colab": {
          "base_uri": "https://localhost:8080/",
          "height": 448
        },
        "id": "Q6_jjW7A9Q_F",
        "outputId": "bad088f5-9c65-40d9-f647-941acf74d85f"
      },
      "outputs": [
        {
          "output_type": "execute_result",
          "data": {
            "text/plain": [
              "<matplotlib.image.AxesImage at 0x7e606d926d70>"
            ]
          },
          "metadata": {},
          "execution_count": 14
        },
        {
          "output_type": "display_data",
          "data": {
            "text/plain": [
              "<Figure size 640x480 with 1 Axes>"
            ],
            "image/png": "[encoded data removed]"
          },
          "metadata": {}
        }
      ],
      "source": [
        "plt.imshow(train_images[0], cmap='coolwarm_r')"
      ]
    },
    {
      "cell_type": "code",
      "execution_count": null,
      "metadata": {
        "colab": {
          "base_uri": "https://localhost:8080/"
        },
        "id": "xFb3aTHFcVG5",
        "outputId": "843623b7-7c25-4225-d70d-99654553d8a3"
      },
      "outputs": [
        {
          "output_type": "stream",
          "name": "stdout",
          "text": [
            "[[  0   0   0   0   0   0   0   0   0   0   0   0   0   0   0   0   0   0   0   0   0   0   0   0   0   0   0   0]\n",
            " [  0   0   0   0   0   0   0   0   0   0   0   0   0   0   0   0   0   0   0   0   0   0   0   0   0   0   0   0]\n",
            " [  0   0   0   0   0   0   0   0   0   0   0   0   0   0   0   0   0   0   0   0   0   0   0   0   0   0   0   0]\n",
            " [  0   0   0   0   0   0   0   0   0   0   0   0   0   0   0   0   0   0   0   0   0   0   0   0   0   0   0   0]\n",
            " [  0   0   0   0   0   0   0   0   0   0   0   0   0   0   0   0   0   0   0   0   0   0   0   0   0   0   0   0]\n",
            " [  0   0   0   0   0   0   0   0   0   0   0   0   3  18  18  18 126 136 175  26 166 255 247 127   0   0   0   0]\n",
            " [  0   0   0   0   0   0   0   0  30  36  94 154 170 253 253 253 253 253 225 172 253 242 195  64   0   0   0   0]\n",
            " [  0   0   0   0   0   0   0  49 238 253 253 253 253 253 253 253 253 251  93  82  82  56  39   0   0   0   0   0]\n",
            " [  0   0   0   0   0   0   0  18 219 253 253 253 253 253 198 182 247 241   0   0   0   0   0   0   0   0   0   0]\n",
            " [  0   0   0   0   0   0   0   0  80 156 107 253 253 205  11   0  43 154   0   0   0   0   0   0   0   0   0   0]\n",
            " [  0   0   0   0   0   0   0   0   0  14   1 154 253  90   0   0   0   0   0   0   0   0   0   0   0   0   0   0]\n",
            " [  0   0   0   0   0   0   0   0   0   0   0 139 253 190   2   0   0   0   0   0   0   0   0   0   0   0   0   0]\n",
            " [  0   0   0   0   0   0   0   0   0   0   0  11 190 253  70   0   0   0   0   0   0   0   0   0   0   0   0   0]\n",
            " [  0   0   0   0   0   0   0   0   0   0   0   0  35 241 225 160 108   1   0   0   0   0   0   0   0   0   0   0]\n",
            " [  0   0   0   0   0   0   0   0   0   0   0   0   0  81 240 253 253 119  25   0   0   0   0   0   0   0   0   0]\n",
            " [  0   0   0   0   0   0   0   0   0   0   0   0   0   0  45 186 253 253 150  27   0   0   0   0   0   0   0   0]\n",
            " [  0   0   0   0   0   0   0   0   0   0   0   0   0   0   0  16  93 252 253 187   0   0   0   0   0   0   0   0]\n",
            " [  0   0   0   0   0   0   0   0   0   0   0   0   0   0   0   0   0 249 253 249  64   0   0   0   0   0   0   0]\n",
            " [  0   0   0   0   0   0   0   0   0   0   0   0   0   0  46 130 183 253 253 207   2   0   0   0   0   0   0   0]\n",
            " [  0   0   0   0   0   0   0   0   0   0   0   0  39 148 229 253 253 253 250 182   0   0   0   0   0   0   0   0]\n",
            " [  0   0   0   0   0   0   0   0   0   0  24 114 221 253 253 253 253 201  78   0   0   0   0   0   0   0   0   0]\n",
            " [  0   0   0   0   0   0   0   0  23  66 213 253 253 253 253 198  81   2   0   0   0   0   0   0   0   0   0   0]\n",
            " [  0   0   0   0   0   0  18 171 219 253 253 253 253 195  80   9   0   0   0   0   0   0   0   0   0   0   0   0]\n",
            " [  0   0   0   0  55 172 226 253 253 253 253 244 133  11   0   0   0   0   0   0   0   0   0   0   0   0   0   0]\n",
            " [  0   0   0   0 136 253 253 253 212 135 132  16   0   0   0   0   0   0   0   0   0   0   0   0   0   0   0   0]\n",
            " [  0   0   0   0   0   0   0   0   0   0   0   0   0   0   0   0   0   0   0   0   0   0   0   0   0   0   0   0]\n",
            " [  0   0   0   0   0   0   0   0   0   0   0   0   0   0   0   0   0   0   0   0   0   0   0   0   0   0   0   0]\n",
            " [  0   0   0   0   0   0   0   0   0   0   0   0   0   0   0   0   0   0   0   0   0   0   0   0   0   0   0   0]]\n"
          ]
        }
      ],
      "source": [
        "import numpy as np\n",
        "\n",
        "with np.printoptions(linewidth=np.inf):\n",
        "    print(train_images[0])"
      ]
    },
    {
      "cell_type": "code",
      "execution_count": null,
      "metadata": {
        "colab": {
          "base_uri": "https://localhost:8080/"
        },
        "id": "wuey1YiHcVG5",
        "outputId": "ed8daa3a-4cf4-4210-8143-cbace2a7c6ad"
      },
      "outputs": [
        {
          "output_type": "execute_result",
          "data": {
            "text/plain": [
              "(28, 28)"
            ]
          },
          "metadata": {},
          "execution_count": 52
        }
      ],
      "source": [
        "train_images[0].shape  # the shape of the first image"
      ]
    },
    {
      "cell_type": "code",
      "execution_count": null,
      "metadata": {
        "colab": {
          "base_uri": "https://localhost:8080/"
        },
        "id": "3NUpGqYWcytf",
        "outputId": "e753eb29-0988-4554-c96b-3531d404303f"
      },
      "outputs": [
        {
          "output_type": "execute_result",
          "data": {
            "text/plain": [
              "numpy.ndarray"
            ]
          },
          "metadata": {},
          "execution_count": 53
        }
      ],
      "source": [
        "type (train_images[0])"
      ]
    },
    {
      "cell_type": "code",
      "execution_count": null,
      "metadata": {
        "colab": {
          "base_uri": "https://localhost:8080/"
        },
        "id": "x2LZwBLAcVG5",
        "outputId": "3ea6d26e-e4ef-4b04-a3c0-128b0bbc4aaf"
      },
      "outputs": [
        {
          "output_type": "execute_result",
          "data": {
            "text/plain": [
              "(60000, 28, 28)"
            ]
          },
          "metadata": {},
          "execution_count": 54
        }
      ],
      "source": [
        "train_images.shape"
      ]
    },
    {
      "cell_type": "code",
      "execution_count": null,
      "metadata": {
        "colab": {
          "base_uri": "https://localhost:8080/"
        },
        "id": "8r_WofpocVG5",
        "outputId": "abd249e3-4620-4502-ee5a-83a72d1e089e"
      },
      "outputs": [
        {
          "output_type": "execute_result",
          "data": {
            "text/plain": [
              "60000"
            ]
          },
          "metadata": {},
          "execution_count": 55
        }
      ],
      "source": [
        "len(train_labels)"
      ]
    },
    {
      "cell_type": "code",
      "execution_count": null,
      "metadata": {
        "colab": {
          "base_uri": "https://localhost:8080/"
        },
        "id": "Rg2f8HYniAcl",
        "outputId": "0678b166-fe2e-4a64-e45f-51bb0a5e4924"
      },
      "outputs": [
        {
          "output_type": "execute_result",
          "data": {
            "text/plain": [
              "array([5, 0, 4, ..., 5, 6, 8], dtype=uint8)"
            ]
          },
          "metadata": {},
          "execution_count": 56
        }
      ],
      "source": [
        "train_labels"
      ]
    },
    {
      "cell_type": "code",
      "execution_count": null,
      "metadata": {
        "colab": {
          "base_uri": "https://localhost:8080/"
        },
        "id": "I-9bRDSoap9g",
        "outputId": "2d778cdc-b49d-48bb-fa25-1f288bc9181c"
      },
      "outputs": [
        {
          "output_type": "execute_result",
          "data": {
            "text/plain": [
              "array([0, 1, 2, 3, 4, 5, 6, 7, 8, 9], dtype=uint8)"
            ]
          },
          "metadata": {},
          "execution_count": 57
        }
      ],
      "source": [
        "np.unique(train_labels)"
      ]
    },
    {
      "cell_type": "code",
      "execution_count": null,
      "metadata": {
        "colab": {
          "base_uri": "https://localhost:8080/"
        },
        "id": "_LKB6XKucVG5",
        "outputId": "eb710a66-7a9b-4aed-c374-c1527e1c414d"
      },
      "outputs": [
        {
          "output_type": "execute_result",
          "data": {
            "text/plain": [
              "array([5, 0, 4, 1, 9], dtype=uint8)"
            ]
          },
          "metadata": {},
          "execution_count": 58
        }
      ],
      "source": [
        "train_labels[0:5]"
      ]
    },
    {
      "cell_type": "code",
      "execution_count": null,
      "metadata": {
        "colab": {
          "base_uri": "https://localhost:8080/"
        },
        "id": "57wp0XIGcVG5",
        "outputId": "46fd92e6-22d8-4f84-b064-53140d4c0b8c"
      },
      "outputs": [
        {
          "output_type": "execute_result",
          "data": {
            "text/plain": [
              "(10000, 28, 28)"
            ]
          },
          "metadata": {},
          "execution_count": 61
        }
      ],
      "source": [
        "test_images.shape"
      ]
    },
    {
      "cell_type": "code",
      "execution_count": null,
      "metadata": {
        "colab": {
          "base_uri": "https://localhost:8080/"
        },
        "id": "-Dxlh4AScVG5",
        "outputId": "c2660da0-7b4c-4bc7-f518-563d317941ad"
      },
      "outputs": [
        {
          "output_type": "execute_result",
          "data": {
            "text/plain": [
              "10000"
            ]
          },
          "metadata": {},
          "execution_count": 62
        }
      ],
      "source": [
        "len(test_labels)"
      ]
    },
    {
      "cell_type": "code",
      "execution_count": null,
      "metadata": {
        "colab": {
          "base_uri": "https://localhost:8080/"
        },
        "id": "PEOjmcTZcVG6",
        "outputId": "18144e90-d3c4-4a39-bf5b-546aa96228dc"
      },
      "outputs": [
        {
          "output_type": "execute_result",
          "data": {
            "text/plain": [
              "array([7, 2, 1, 0, 4], dtype=uint8)"
            ]
          },
          "metadata": {},
          "execution_count": 64
        }
      ],
      "source": [
        "test_labels[0:5]"
      ]
    },
    {
      "cell_type": "markdown",
      "metadata": {
        "id": "XPYzaARriisN"
      },
      "source": [
        "### Feature Transformation"
      ]
    },
    {
      "cell_type": "markdown",
      "metadata": {
        "id": "548247m-cVG6"
      },
      "source": [
        "\n",
        "Before training, we will preprocess our data by reshaping it into the shape that the network expects, and scaling it so that all values are in\n",
        "the `[0, 1]` range.\n",
        "\n",
        "Previously, our training images for instance were stored in an array of shape `(60000, 28, 28)` of type `uint8` withvalues in the `[0, 255]` interval.\n",
        "\n",
        "We transform it into a `float32` array of shape `(60000, 28 * 28)` with values between 0 and 1."
      ]
    },
    {
      "cell_type": "markdown",
      "metadata": {
        "id": "3QLFsTOhjKj2"
      },
      "source": [
        "<img src='https://github.com/AviatorMoser/keras-mnist-tutorial/blob/master/flatten.png?raw=1' >"
      ]
    },
    {
      "cell_type": "code",
      "execution_count": null,
      "metadata": {
        "id": "lyfA4i-TcVG6"
      },
      "outputs": [],
      "source": [
        "# Note the value of the original pixels is between 0 and 255\n",
        "# We will flatten and scale the dataset to a value between 0 and 1\n",
        "\n",
        "image_height, image_width = 28, 28\n",
        "\n",
        "train_images = train_images.astype('float32') / 255\n",
        "train_images = train_images.reshape((60000, image_height * image_width))\n",
        "\n",
        "test_images = test_images.astype('float32') / 255\n",
        "test_images = test_images.reshape((10000, image_height * image_width))"
      ]
    },
    {
      "cell_type": "code",
      "source": [
        "train_images.shape"
      ],
      "metadata": {
        "colab": {
          "base_uri": "https://localhost:8080/"
        },
        "id": "cQ8cODM-j-L0",
        "outputId": "e5a8a2b3-4eec-4b15-c363-62b282a520e4"
      },
      "execution_count": null,
      "outputs": [
        {
          "output_type": "execute_result",
          "data": {
            "text/plain": [
              "(60000, 784)"
            ]
          },
          "metadata": {},
          "execution_count": 67
        }
      ]
    },
    {
      "cell_type": "code",
      "source": [
        "test_images.shape"
      ],
      "metadata": {
        "colab": {
          "base_uri": "https://localhost:8080/"
        },
        "id": "PVw5HTSYkBg8",
        "outputId": "3b8309a2-a8e0-45c9-cadf-93ea727cb7f4"
      },
      "execution_count": null,
      "outputs": [
        {
          "output_type": "execute_result",
          "data": {
            "text/plain": [
              "(10000, 784)"
            ]
          },
          "metadata": {},
          "execution_count": 68
        }
      ]
    },
    {
      "cell_type": "code",
      "execution_count": null,
      "metadata": {
        "colab": {
          "base_uri": "https://localhost:8080/"
        },
        "id": "pSSmr7uFit_Y",
        "outputId": "9f3eb30e-7a13-4036-fb98-9da31dfe0ea1"
      },
      "outputs": [
        {
          "output_type": "execute_result",
          "data": {
            "text/plain": [
              "array([[0., 0., 0., ..., 0., 0., 0.],\n",
              "       [0., 0., 0., ..., 0., 0., 0.],\n",
              "       [0., 0., 0., ..., 0., 0., 0.],\n",
              "       ...,\n",
              "       [0., 0., 0., ..., 0., 0., 0.],\n",
              "       [0., 0., 0., ..., 0., 0., 0.],\n",
              "       [0., 0., 0., ..., 0., 0., 0.]], dtype=float32)"
            ]
          },
          "metadata": {},
          "execution_count": 69
        }
      ],
      "source": [
        "train_images"
      ]
    },
    {
      "cell_type": "code",
      "execution_count": null,
      "metadata": {
        "colab": {
          "base_uri": "https://localhost:8080/"
        },
        "id": "vJqB3xV5doQr",
        "outputId": "ee1f3ebd-062c-4dba-d731-81694ceed294"
      },
      "outputs": [
        {
          "output_type": "execute_result",
          "data": {
            "text/plain": [
              "array([0.0000000e+00, 1.5378702e-05, 3.0757405e-05, 4.6136101e-05,\n",
              "       6.1514809e-05, 7.6893506e-05, 9.2272203e-05, 1.0765091e-04,\n",
              "       1.2302962e-04, 1.3840832e-04, 1.5378701e-04, 1.6916571e-04,\n",
              "       1.8454441e-04, 1.9992310e-04, 2.1530181e-04, 2.3068051e-04,\n",
              "       2.4605924e-04, 2.6143793e-04, 2.7681663e-04, 2.9219533e-04,\n",
              "       3.0757402e-04, 3.2295272e-04, 3.3833142e-04, 3.5371011e-04,\n",
              "       3.6908881e-04, 3.8446751e-04, 3.9984621e-04, 4.1522493e-04,\n",
              "       4.3060363e-04, 4.4598232e-04, 4.6136102e-04, 4.7673972e-04,\n",
              "       4.9211847e-04, 5.0749717e-04, 5.2287587e-04, 5.3825456e-04,\n",
              "       5.5363326e-04, 5.6901196e-04, 5.8439065e-04, 5.9976935e-04,\n",
              "       6.1514805e-04, 6.3052675e-04, 6.4590544e-04, 6.6128414e-04,\n",
              "       6.7666284e-04, 6.9204153e-04, 7.0742023e-04, 7.2279893e-04,\n",
              "       7.3817762e-04, 7.5355632e-04, 7.6893502e-04, 7.8431371e-04,\n",
              "       7.9969241e-04, 8.1507111e-04, 8.3044986e-04, 8.4582856e-04,\n",
              "       8.6120726e-04, 8.7658595e-04, 8.9196465e-04, 9.0734335e-04,\n",
              "       9.2272204e-04, 9.3810074e-04, 9.5347944e-04, 9.6885813e-04,\n",
              "       9.8423695e-04, 9.9961564e-04, 1.0149943e-03, 1.0303730e-03,\n",
              "       1.0457517e-03, 1.0611304e-03, 1.0765091e-03, 1.0918878e-03,\n",
              "       1.1072665e-03, 1.1226452e-03, 1.1380239e-03, 1.1534026e-03,\n",
              "       1.1687813e-03, 1.1841600e-03, 1.1995387e-03, 1.2149174e-03,\n",
              "       1.2302961e-03, 1.2456748e-03, 1.2610535e-03, 1.2764322e-03,\n",
              "       1.2918109e-03, 1.3071896e-03, 1.3225683e-03, 1.3379470e-03,\n",
              "       1.3533257e-03, 1.3687044e-03, 1.3840831e-03, 1.3994618e-03,\n",
              "       1.4148405e-03, 1.4302192e-03, 1.4455979e-03, 1.4609765e-03,\n",
              "       1.4763552e-03, 1.4917339e-03, 1.5071126e-03, 1.5224913e-03,\n",
              "       1.5378700e-03, 1.5532487e-03, 1.5686274e-03, 1.5840061e-03,\n",
              "       1.5993848e-03, 1.6147635e-03, 1.6301422e-03, 1.6455210e-03,\n",
              "       1.6608997e-03, 1.6762784e-03, 1.6916571e-03, 1.7070358e-03,\n",
              "       1.7224145e-03, 1.7377932e-03, 1.7531719e-03, 1.7685506e-03,\n",
              "       1.7839293e-03, 1.7993080e-03, 1.8146867e-03, 1.8300654e-03,\n",
              "       1.8454441e-03, 1.8608228e-03, 1.8762015e-03, 1.8915802e-03,\n",
              "       1.9069589e-03, 1.9223376e-03, 1.9377163e-03, 1.9530950e-03,\n",
              "       1.9684739e-03, 1.9838526e-03, 1.9992313e-03, 2.0146100e-03,\n",
              "       2.0299887e-03, 2.0453674e-03, 2.0607461e-03, 2.0761248e-03,\n",
              "       2.0915035e-03, 2.1068822e-03, 2.1222609e-03, 2.1376396e-03,\n",
              "       2.1530183e-03, 2.1683970e-03, 2.1837757e-03, 2.1991543e-03,\n",
              "       2.2145330e-03, 2.2299117e-03, 2.2452904e-03, 2.2606691e-03,\n",
              "       2.2760478e-03, 2.2914265e-03, 2.3068052e-03, 2.3221839e-03,\n",
              "       2.3375626e-03, 2.3529413e-03, 2.3683200e-03, 2.3836987e-03,\n",
              "       2.3990774e-03, 2.4144561e-03, 2.4298348e-03, 2.4452135e-03,\n",
              "       2.4605922e-03, 2.4759709e-03, 2.4913496e-03, 2.5067283e-03,\n",
              "       2.5221070e-03, 2.5374857e-03, 2.5528644e-03, 2.5682431e-03,\n",
              "       2.5836218e-03, 2.5990005e-03, 2.6143792e-03, 2.6297579e-03,\n",
              "       2.6451366e-03, 2.6605153e-03, 2.6758939e-03, 2.6912726e-03,\n",
              "       2.7066513e-03, 2.7220300e-03, 2.7374087e-03, 2.7527874e-03,\n",
              "       2.7681661e-03, 2.7835448e-03, 2.7989235e-03, 2.8143022e-03,\n",
              "       2.8296809e-03, 2.8450596e-03, 2.8604383e-03, 2.8758170e-03,\n",
              "       2.8911957e-03, 2.9065744e-03, 2.9219531e-03, 2.9373318e-03,\n",
              "       2.9527105e-03, 2.9680892e-03, 2.9834679e-03, 2.9988466e-03,\n",
              "       3.0142253e-03, 3.0296040e-03, 3.0449827e-03, 3.0603614e-03,\n",
              "       3.0757401e-03, 3.0911188e-03, 3.1064975e-03, 3.1218762e-03,\n",
              "       3.1372549e-03, 3.1526336e-03, 3.1680122e-03, 3.1833909e-03,\n",
              "       3.1987696e-03, 3.2141483e-03, 3.2295270e-03, 3.2449057e-03,\n",
              "       3.2602844e-03, 3.2756634e-03, 3.2910421e-03, 3.3064208e-03,\n",
              "       3.3217994e-03, 3.3371781e-03, 3.3525568e-03, 3.3679355e-03,\n",
              "       3.3833142e-03, 3.3986929e-03, 3.4140716e-03, 3.4294503e-03,\n",
              "       3.4448290e-03, 3.4602077e-03, 3.4755864e-03, 3.4909651e-03,\n",
              "       3.5063438e-03, 3.5217225e-03, 3.5371012e-03, 3.5524799e-03,\n",
              "       3.5678586e-03, 3.5832373e-03, 3.5986160e-03, 3.6139947e-03,\n",
              "       3.6293734e-03, 3.6447521e-03, 3.6601308e-03, 3.6755095e-03,\n",
              "       3.6908882e-03, 3.7062669e-03, 3.7216456e-03, 3.7370243e-03,\n",
              "       3.7524030e-03, 3.7677817e-03, 3.7831604e-03, 3.7985391e-03,\n",
              "       3.8139177e-03, 3.8292964e-03, 3.8446751e-03, 3.8600538e-03,\n",
              "       3.8754325e-03, 3.8908112e-03, 3.9061899e-03, 3.9215689e-03],\n",
              "      dtype=float32)"
            ]
          },
          "metadata": {},
          "execution_count": 70
        }
      ],
      "source": [
        "np.unique(train_images)"
      ]
    },
    {
      "cell_type": "code",
      "execution_count": null,
      "metadata": {
        "colab": {
          "base_uri": "https://localhost:8080/"
        },
        "id": "vRHkpiDOi1no",
        "outputId": "722c9638-9eba-49ca-883d-b5cbd3c6e63d"
      },
      "outputs": [
        {
          "output_type": "execute_result",
          "data": {
            "text/plain": [
              "(60000, 784)"
            ]
          },
          "metadata": {},
          "execution_count": 71
        }
      ],
      "source": [
        "train_images.shape"
      ]
    },
    {
      "cell_type": "markdown",
      "metadata": {
        "id": "hdPdDZU4cVG6"
      },
      "source": [
        "### One-hot encoding label data\n",
        "\n",
        "We also need to categorically encode the labels:"
      ]
    },
    {
      "cell_type": "code",
      "source": [
        "train_labels.shape"
      ],
      "metadata": {
        "colab": {
          "base_uri": "https://localhost:8080/"
        },
        "id": "o9jQna79m4qt",
        "outputId": "8283d490-5b20-41e2-fc82-5a8c4ef776c9"
      },
      "execution_count": null,
      "outputs": [
        {
          "output_type": "execute_result",
          "data": {
            "text/plain": [
              "(60000,)"
            ]
          },
          "metadata": {},
          "execution_count": 72
        }
      ]
    },
    {
      "cell_type": "code",
      "source": [
        "test_labels.shape"
      ],
      "metadata": {
        "colab": {
          "base_uri": "https://localhost:8080/"
        },
        "id": "tebS80ykm8Ge",
        "outputId": "b879aeeb-647c-42bf-8ea8-6238787d10f2"
      },
      "execution_count": null,
      "outputs": [
        {
          "output_type": "execute_result",
          "data": {
            "text/plain": [
              "(10000,)"
            ]
          },
          "metadata": {},
          "execution_count": 73
        }
      ]
    },
    {
      "cell_type": "code",
      "source": [
        "type(train_labels)"
      ],
      "metadata": {
        "colab": {
          "base_uri": "https://localhost:8080/"
        },
        "id": "JM1V63nuQiJU",
        "outputId": "7a04cc44-1d5c-4414-b26c-054faf8fbcbb"
      },
      "execution_count": null,
      "outputs": [
        {
          "output_type": "execute_result",
          "data": {
            "text/plain": [
              "numpy.ndarray"
            ]
          },
          "metadata": {},
          "execution_count": 74
        }
      ]
    },
    {
      "cell_type": "code",
      "source": [
        "train_labels"
      ],
      "metadata": {
        "colab": {
          "base_uri": "https://localhost:8080/"
        },
        "id": "T3TORwCsQk0M",
        "outputId": "ef02a6a0-1916-46be-9b9c-6af3ec657df6"
      },
      "execution_count": null,
      "outputs": [
        {
          "output_type": "execute_result",
          "data": {
            "text/plain": [
              "array([5, 0, 4, ..., 5, 6, 8], dtype=uint8)"
            ]
          },
          "metadata": {},
          "execution_count": 75
        }
      ]
    },
    {
      "cell_type": "code",
      "source": [
        "train_labels.shape"
      ],
      "metadata": {
        "colab": {
          "base_uri": "https://localhost:8080/"
        },
        "id": "e8YSgpmMQvTX",
        "outputId": "0afcbeba-5d00-408c-b5c6-b6d857e29a51"
      },
      "execution_count": null,
      "outputs": [
        {
          "output_type": "execute_result",
          "data": {
            "text/plain": [
              "(60000,)"
            ]
          },
          "metadata": {},
          "execution_count": 76
        }
      ]
    },
    {
      "cell_type": "code",
      "execution_count": null,
      "metadata": {
        "id": "j4FEDwPJcVG6"
      },
      "outputs": [],
      "source": [
        "from tensorflow.keras.utils import to_categorical\n",
        "\n",
        "train_labels = to_categorical(train_labels)\n",
        "test_labels = to_categorical(test_labels)"
      ]
    },
    {
      "cell_type": "code",
      "source": [
        "train_labels.shape"
      ],
      "metadata": {
        "colab": {
          "base_uri": "https://localhost:8080/"
        },
        "id": "DUyuV2K9nCAS",
        "outputId": "ee58b2b8-d7e7-4bbf-9ddd-a74dd275b546"
      },
      "execution_count": null,
      "outputs": [
        {
          "output_type": "execute_result",
          "data": {
            "text/plain": [
              "(60000, 10)"
            ]
          },
          "metadata": {},
          "execution_count": 78
        }
      ]
    },
    {
      "cell_type": "code",
      "source": [
        "test_labels.shape"
      ],
      "metadata": {
        "colab": {
          "base_uri": "https://localhost:8080/"
        },
        "id": "lZJGqxBSnCPU",
        "outputId": "e593a116-7586-4ac1-8af7-75c87c00624a"
      },
      "execution_count": null,
      "outputs": [
        {
          "output_type": "execute_result",
          "data": {
            "text/plain": [
              "(10000, 10)"
            ]
          },
          "metadata": {},
          "execution_count": 79
        }
      ]
    },
    {
      "cell_type": "code",
      "execution_count": null,
      "metadata": {
        "colab": {
          "base_uri": "https://localhost:8080/"
        },
        "id": "LEG1HeOoeezB",
        "outputId": "5b64323a-d736-49ad-e0b8-df1286922665"
      },
      "outputs": [
        {
          "output_type": "execute_result",
          "data": {
            "text/plain": [
              "array([[0., 0., 0., ..., 0., 0., 0.],\n",
              "       [1., 0., 0., ..., 0., 0., 0.],\n",
              "       [0., 0., 0., ..., 0., 0., 0.],\n",
              "       ...,\n",
              "       [0., 0., 0., ..., 0., 0., 0.],\n",
              "       [0., 0., 0., ..., 0., 0., 0.],\n",
              "       [0., 0., 0., ..., 0., 1., 0.]])"
            ]
          },
          "metadata": {},
          "execution_count": 80
        }
      ],
      "source": [
        "train_labels"
      ]
    },
    {
      "cell_type": "code",
      "execution_count": null,
      "metadata": {
        "colab": {
          "base_uri": "https://localhost:8080/"
        },
        "id": "Y6QV7lT8eo3f",
        "outputId": "879eaf10-86ba-43f9-c6fc-4adf577ba203"
      },
      "outputs": [
        {
          "output_type": "execute_result",
          "data": {
            "text/plain": [
              "array([0., 0., 0., 0., 0., 1., 0., 0., 0., 0.])"
            ]
          },
          "metadata": {},
          "execution_count": 46
        }
      ],
      "source": [
        "train_labels[0]"
      ]
    },
    {
      "cell_type": "code",
      "execution_count": null,
      "metadata": {
        "colab": {
          "base_uri": "https://localhost:8080/"
        },
        "id": "F1I4e-rFerao",
        "outputId": "1db3a6b1-cb77-462d-b7ce-e02b5beeb6b5"
      },
      "outputs": [
        {
          "output_type": "execute_result",
          "data": {
            "text/plain": [
              "array([1., 0., 0., 0., 0., 0., 0., 0., 0., 0.])"
            ]
          },
          "metadata": {},
          "execution_count": 36
        }
      ],
      "source": [
        "train_labels[1]"
      ]
    },
    {
      "cell_type": "code",
      "source": [
        "train_labels[2]"
      ],
      "metadata": {
        "colab": {
          "base_uri": "https://localhost:8080/"
        },
        "id": "2KoKiVo2RAJZ",
        "outputId": "aa019dd6-38f4-463e-a174-0a2b898eb334"
      },
      "execution_count": null,
      "outputs": [
        {
          "output_type": "execute_result",
          "data": {
            "text/plain": [
              "array([0., 0., 0., 0., 1., 0., 0., 0., 0., 0.])"
            ]
          },
          "metadata": {},
          "execution_count": 47
        }
      ]
    },
    {
      "cell_type": "code",
      "execution_count": null,
      "metadata": {
        "colab": {
          "base_uri": "https://localhost:8080/"
        },
        "id": "HstFY9idcVG6",
        "outputId": "cdaab025-093b-4b93-f547-0efc2dd85732"
      },
      "outputs": [
        {
          "output_type": "execute_result",
          "data": {
            "text/plain": [
              "array([[0., 0., 0., 0., 0., 1., 0., 0., 0., 0.],\n",
              "       [1., 0., 0., 0., 0., 0., 0., 0., 0., 0.],\n",
              "       [0., 0., 0., 0., 1., 0., 0., 0., 0., 0.],\n",
              "       [0., 1., 0., 0., 0., 0., 0., 0., 0., 0.],\n",
              "       [0., 0., 0., 0., 0., 0., 0., 0., 0., 1.]])"
            ]
          },
          "metadata": {},
          "execution_count": 48
        }
      ],
      "source": [
        "train_labels[:5]"
      ]
    },
    {
      "cell_type": "code",
      "source": [
        "train_images.shape"
      ],
      "metadata": {
        "colab": {
          "base_uri": "https://localhost:8080/"
        },
        "id": "fdVmqV_oadCw",
        "outputId": "45c64276-2324-4cb2-c34e-c715dbc50e0c"
      },
      "execution_count": null,
      "outputs": [
        {
          "output_type": "execute_result",
          "data": {
            "text/plain": [
              "(60000, 784)"
            ]
          },
          "metadata": {},
          "execution_count": 83
        }
      ]
    },
    {
      "cell_type": "markdown",
      "metadata": {
        "id": "e7AcHSiMcVG6"
      },
      "source": [
        "\n",
        "\n",
        "## Build the network\n"
      ]
    },
    {
      "cell_type": "code",
      "execution_count": null,
      "metadata": {
        "id": "g5StsO1vcVG6"
      },
      "outputs": [],
      "source": [
        "from tensorflow.keras.models import Sequential\n",
        "from tensorflow.keras.layers import Dense # fully connected neural network\n",
        "\n",
        "network = Sequential()\n",
        "\n",
        "# First layer of the neural network model\n",
        "#Dense - fully connected node\n",
        "network.add(Dense(512, activation='relu', input_shape=(28 * 28,)))\n",
        "\n",
        "#Note the output is 10, representing the 10 different digits (class labels 0 - 9)\n",
        "network.add(Dense(10, activation='softmax'))"
      ]
    },
    {
      "cell_type": "code",
      "execution_count": null,
      "metadata": {
        "colab": {
          "base_uri": "https://localhost:8080/",
          "height": 197
        },
        "id": "6zxgZCdIcVG6",
        "outputId": "ad1a1890-d614-4552-d64f-2e003dbb17fa"
      },
      "outputs": [
        {
          "output_type": "display_data",
          "data": {
            "text/plain": [
              "\u001b[1mModel: \"sequential_2\"\u001b[0m\n"
            ],
            "text/html": [
              "<pre style=\"white-space:pre;overflow-x:auto;line-height:normal;font-family:Menlo,'DejaVu Sans Mono',consolas,'Courier New',monospace\"><span style=\"font-weight: bold\">Model: \"sequential_2\"</span>\n",
              "</pre>\n"
            ]
          },
          "metadata": {}
        },
        {
          "output_type": "display_data",
          "data": {
            "text/plain": [
              "┏━━━━━━━━━━━━━━━━━━━━━━━━━━━━━━━━━━━━━━┳━━━━━━━━━━━━━━━━━━━━━━━━━━━━━┳━━━━━━━━━━━━━━━━━┓\n",
              "┃\u001b[1m \u001b[0m\u001b[1mLayer (type)                        \u001b[0m\u001b[1m \u001b[0m┃\u001b[1m \u001b[0m\u001b[1mOutput Shape               \u001b[0m\u001b[1m \u001b[0m┃\u001b[1m \u001b[0m\u001b[1m        Param #\u001b[0m\u001b[1m \u001b[0m┃\n",
              "┡━━━━━━━━━━━━━━━━━━━━━━━━━━━━━━━━━━━━━━╇━━━━━━━━━━━━━━━━━━━━━━━━━━━━━╇━━━━━━━━━━━━━━━━━┩\n",
              "│ dense_4 (\u001b[38;5;33mDense\u001b[0m)                      │ (\u001b[38;5;45mNone\u001b[0m, \u001b[38;5;34m512\u001b[0m)                 │         \u001b[38;5;34m401,920\u001b[0m │\n",
              "├──────────────────────────────────────┼─────────────────────────────┼─────────────────┤\n",
              "│ dense_5 (\u001b[38;5;33mDense\u001b[0m)                      │ (\u001b[38;5;45mNone\u001b[0m, \u001b[38;5;34m10\u001b[0m)                  │           \u001b[38;5;34m5,130\u001b[0m │\n",
              "└──────────────────────────────────────┴─────────────────────────────┴─────────────────┘\n"
            ],
            "text/html": [
              "<pre style=\"white-space:pre;overflow-x:auto;line-height:normal;font-family:Menlo,'DejaVu Sans Mono',consolas,'Courier New',monospace\">┏━━━━━━━━━━━━━━━━━━━━━━━━━━━━━━━━━━━━━━┳━━━━━━━━━━━━━━━━━━━━━━━━━━━━━┳━━━━━━━━━━━━━━━━━┓\n",
              "┃<span style=\"font-weight: bold\"> Layer (type)                         </span>┃<span style=\"font-weight: bold\"> Output Shape                </span>┃<span style=\"font-weight: bold\">         Param # </span>┃\n",
              "┡━━━━━━━━━━━━━━━━━━━━━━━━━━━━━━━━━━━━━━╇━━━━━━━━━━━━━━━━━━━━━━━━━━━━━╇━━━━━━━━━━━━━━━━━┩\n",
              "│ dense_4 (<span style=\"color: #0087ff; text-decoration-color: #0087ff\">Dense</span>)                      │ (<span style=\"color: #00d7ff; text-decoration-color: #00d7ff\">None</span>, <span style=\"color: #00af00; text-decoration-color: #00af00\">512</span>)                 │         <span style=\"color: #00af00; text-decoration-color: #00af00\">401,920</span> │\n",
              "├──────────────────────────────────────┼─────────────────────────────┼─────────────────┤\n",
              "│ dense_5 (<span style=\"color: #0087ff; text-decoration-color: #0087ff\">Dense</span>)                      │ (<span style=\"color: #00d7ff; text-decoration-color: #00d7ff\">None</span>, <span style=\"color: #00af00; text-decoration-color: #00af00\">10</span>)                  │           <span style=\"color: #00af00; text-decoration-color: #00af00\">5,130</span> │\n",
              "└──────────────────────────────────────┴─────────────────────────────┴─────────────────┘\n",
              "</pre>\n"
            ]
          },
          "metadata": {}
        },
        {
          "output_type": "display_data",
          "data": {
            "text/plain": [
              "\u001b[1m Total params: \u001b[0m\u001b[38;5;34m407,050\u001b[0m (1.55 MB)\n"
            ],
            "text/html": [
              "<pre style=\"white-space:pre;overflow-x:auto;line-height:normal;font-family:Menlo,'DejaVu Sans Mono',consolas,'Courier New',monospace\"><span style=\"font-weight: bold\"> Total params: </span><span style=\"color: #00af00; text-decoration-color: #00af00\">407,050</span> (1.55 MB)\n",
              "</pre>\n"
            ]
          },
          "metadata": {}
        },
        {
          "output_type": "display_data",
          "data": {
            "text/plain": [
              "\u001b[1m Trainable params: \u001b[0m\u001b[38;5;34m407,050\u001b[0m (1.55 MB)\n"
            ],
            "text/html": [
              "<pre style=\"white-space:pre;overflow-x:auto;line-height:normal;font-family:Menlo,'DejaVu Sans Mono',consolas,'Courier New',monospace\"><span style=\"font-weight: bold\"> Trainable params: </span><span style=\"color: #00af00; text-decoration-color: #00af00\">407,050</span> (1.55 MB)\n",
              "</pre>\n"
            ]
          },
          "metadata": {}
        },
        {
          "output_type": "display_data",
          "data": {
            "text/plain": [
              "\u001b[1m Non-trainable params: \u001b[0m\u001b[38;5;34m0\u001b[0m (0.00 B)\n"
            ],
            "text/html": [
              "<pre style=\"white-space:pre;overflow-x:auto;line-height:normal;font-family:Menlo,'DejaVu Sans Mono',consolas,'Courier New',monospace\"><span style=\"font-weight: bold\"> Non-trainable params: </span><span style=\"color: #00af00; text-decoration-color: #00af00\">0</span> (0.00 B)\n",
              "</pre>\n"
            ]
          },
          "metadata": {}
        }
      ],
      "source": [
        "network.summary()"
      ]
    },
    {
      "cell_type": "markdown",
      "metadata": {
        "id": "83SLBBpScVG6"
      },
      "source": [
        "## Compile the network\n"
      ]
    },
    {
      "cell_type": "code",
      "execution_count": null,
      "metadata": {
        "id": "SZ6CEyXncVG6"
      },
      "outputs": [],
      "source": [
        "network.compile(optimizer='rmsprop',\n",
        "                loss='categorical_crossentropy',\n",
        "                metrics=['accuracy'])"
      ]
    },
    {
      "cell_type": "markdown",
      "metadata": {
        "id": "mWwYD29LcVG7"
      },
      "source": [
        "## Train the network"
      ]
    },
    {
      "cell_type": "code",
      "execution_count": null,
      "metadata": {
        "colab": {
          "base_uri": "https://localhost:8080/"
        },
        "id": "xlWo3Ed4cVG7",
        "outputId": "db37984f-0224-4db1-ab60-09a827768b8b"
      },
      "outputs": [
        {
          "output_type": "stream",
          "name": "stdout",
          "text": [
            "Epoch 1/5\n",
            "\u001b[1m469/469\u001b[0m \u001b[32m━━━━━━━━━━━━━━━━━━━━\u001b[0m\u001b[37m\u001b[0m \u001b[1m6s\u001b[0m 12ms/step - accuracy: 0.1685 - loss: 2.2807\n",
            "Epoch 2/5\n",
            "\u001b[1m469/469\u001b[0m \u001b[32m━━━━━━━━━━━━━━━━━━━━\u001b[0m\u001b[37m\u001b[0m \u001b[1m5s\u001b[0m 10ms/step - accuracy: 0.5477 - loss: 1.8878\n",
            "Epoch 3/5\n",
            "\u001b[1m469/469\u001b[0m \u001b[32m━━━━━━━━━━━━━━━━━━━━\u001b[0m\u001b[37m\u001b[0m \u001b[1m7s\u001b[0m 13ms/step - accuracy: 0.7130 - loss: 1.1738\n",
            "Epoch 4/5\n",
            "\u001b[1m469/469\u001b[0m \u001b[32m━━━━━━━━━━━━━━━━━━━━\u001b[0m\u001b[37m\u001b[0m \u001b[1m6s\u001b[0m 12ms/step - accuracy: 0.7982 - loss: 0.8117\n",
            "Epoch 5/5\n",
            "\u001b[1m469/469\u001b[0m \u001b[32m━━━━━━━━━━━━━━━━━━━━\u001b[0m\u001b[37m\u001b[0m \u001b[1m10s\u001b[0m 11ms/step - accuracy: 0.8301 - loss: 0.6415\n"
          ]
        }
      ],
      "source": [
        "history = network.fit(train_images, train_labels, epochs=5, batch_size=128, verbose=1)"
      ]
    },
    {
      "cell_type": "markdown",
      "metadata": {
        "id": "XzGJj-fGcVG7"
      },
      "source": [
        "## Check test accuracy"
      ]
    },
    {
      "cell_type": "code",
      "execution_count": null,
      "metadata": {
        "id": "TNHcNgCFcVG7",
        "colab": {
          "base_uri": "https://localhost:8080/"
        },
        "outputId": "d43d3d08-d040-4d92-831c-0ca328fb9271"
      },
      "outputs": [
        {
          "output_type": "stream",
          "name": "stdout",
          "text": [
            "\u001b[1m313/313\u001b[0m \u001b[32m━━━━━━━━━━━━━━━━━━━━\u001b[0m\u001b[37m\u001b[0m \u001b[1m1s\u001b[0m 3ms/step - accuracy: 0.8248 - loss: 0.6099\n"
          ]
        }
      ],
      "source": [
        "test_loss, test_acc = network.evaluate(test_images, test_labels)"
      ]
    }
  ],
  "metadata": {
    "colab": {
      "provenance": [],
      "include_colab_link": true
    },
    "kernelspec": {
      "display_name": "Python 3",
      "language": "python",
      "name": "python3"
    },
    "language_info": {
      "codemirror_mode": {
        "name": "ipython",
        "version": 3
      },
      "file_extension": ".py",
      "mimetype": "text/x-python",
      "name": "python",
      "nbconvert_exporter": "python",
      "pygments_lexer": "ipython3",
      "version": "3.8.5"
    }
  },
  "nbformat": 4,
  "nbformat_minor": 0
}